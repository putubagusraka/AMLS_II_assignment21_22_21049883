{
 "cells": [
  {
   "cell_type": "code",
   "execution_count": 1,
   "id": "d2af07e3-d9c7-4ebb-9cdb-b056d2d6d130",
   "metadata": {},
   "outputs": [],
   "source": [
    "import pandas as pd\n",
    "import numpy as np\n",
    "import cv2\n",
    "import tensorflow as tf\n",
    "import keras\n",
    "\n",
    "from collections import Counter\n",
    "from imblearn.over_sampling import SMOTE \n",
    "\n",
    "from sklearn.preprocessing import OneHotEncoder,LabelEncoder\n",
    "from sklearn.model_selection import train_test_split\n",
    "from sklearn.metrics import classification_report,accuracy_score,precision_score,f1_score,recall_score\n",
    "from sklearn import preprocessing\n",
    "from sklearn import svm\n",
    "from sklearn.metrics import ConfusionMatrixDisplay\n",
    "from sklearn.model_selection import KFold\n",
    "from sklearn.decomposition import KernelPCA\n",
    "from sklearn.model_selection import GridSearchCV\n",
    "\n",
    "from tensorflow.keras.models import Sequential\n",
    "from tensorflow.keras.layers import Conv2D, MaxPooling2D, Flatten, Dense, Dropout, BatchNormalization, Activation, GlobalAveragePooling2D\n",
    "from tensorflow.keras.optimizers import Adam, SGD\n",
    "\n",
    "from tensorflow.keras.applications import DenseNet121\n",
    "\n",
    "import matplotlib.pyplot as plt\n",
    "\n",
    "import pickle\n",
    "import joblib\n",
    "from joblib import dump, load"
   ]
  },
  {
   "cell_type": "code",
   "execution_count": 5,
   "id": "a06bde4c-76fd-42a9-90e3-07e896c78c4c",
   "metadata": {},
   "outputs": [],
   "source": [
    "data_path=\"train_images/\"\n",
    "file = \"train.csv\"\n",
    "image_size = 150"
   ]
  },
  {
   "cell_type": "code",
   "execution_count": 6,
   "id": "d3a60fd8-3897-4d3d-a425-388012e73c4d",
   "metadata": {},
   "outputs": [],
   "source": [
    "data = pd.read_csv(file)"
   ]
  },
  {
   "cell_type": "code",
   "execution_count": 7,
   "id": "74f2b094-fce9-49aa-9293-6605de11759b",
   "metadata": {},
   "outputs": [],
   "source": [
    "#data = data.replace({0:\"No DR\", 1:\"Mild\", 2:\"Moderate\", 3:\"Severe\",4:\"Proliferative DR\"})"
   ]
  },
  {
   "cell_type": "code",
   "execution_count": 8,
   "id": "c24c60c5-b60e-42e2-964a-fb4a7377a0de",
   "metadata": {},
   "outputs": [],
   "source": [
    "#data = data.replace({0:\"No DR\", 1:\"Mild\", 2:\"Clear DR\", 3:\"Clear DR\",4:\"Clear DR\"})"
   ]
  },
  {
   "cell_type": "code",
   "execution_count": 9,
   "id": "ef1c16e5-f49c-42f8-980e-197218d02ca8",
   "metadata": {},
   "outputs": [],
   "source": [
    "data = data.replace({0:\"No DR\", 1:\"Mild DR\", 2:\"Mild DR\", 3:\"Clear DR\",4:\"Clear DR\"})"
   ]
  },
  {
   "cell_type": "code",
   "execution_count": 10,
   "id": "b90a563b-7324-47d6-affd-cf3ab41cad9c",
   "metadata": {},
   "outputs": [],
   "source": [
    "output_nodes = len(set(list(data['diagnosis'])))"
   ]
  },
  {
   "cell_type": "code",
   "execution_count": 11,
   "id": "cd32c575-6558-4086-be08-b4b2385a2dbd",
   "metadata": {},
   "outputs": [
    {
     "data": {
      "text/plain": [
       "3"
      ]
     },
     "execution_count": 11,
     "metadata": {},
     "output_type": "execute_result"
    }
   ],
   "source": [
    "output_nodes"
   ]
  },
  {
   "cell_type": "code",
   "execution_count": 12,
   "id": "764f3535-8b4f-4fd8-903d-14d176d8a61f",
   "metadata": {},
   "outputs": [],
   "source": [
    "file_names=list(data['id_code'])"
   ]
  },
  {
   "cell_type": "code",
   "execution_count": 13,
   "id": "34627597-edad-4b5f-ac1d-397d6e58478e",
   "metadata": {},
   "outputs": [
    {
     "name": "stdout",
     "output_type": "stream",
     "text": [
      "Counter({'No DR': 1805, 'Mild DR': 1369, 'Clear DR': 488})\n"
     ]
    }
   ],
   "source": [
    "print(Counter(list(data['diagnosis'])))"
   ]
  },
  {
   "cell_type": "code",
   "execution_count": 14,
   "id": "ee9b187b-273f-4c9c-903e-8faa2b087b87",
   "metadata": {},
   "outputs": [],
   "source": [
    "labels=data['diagnosis'].values.ravel()"
   ]
  },
  {
   "cell_type": "code",
   "execution_count": 15,
   "id": "4d8efbf5-fda7-4cf5-8c1e-2987ff24b128",
   "metadata": {},
   "outputs": [],
   "source": [
    "def image_processing(data_path,file_names,img_size):\n",
    "    dataset_tumor = []\n",
    "    for file_name in file_names:\n",
    "        file=cv2.imread(data_path+file_name+'.png', cv2.IMREAD_COLOR) \n",
    "        file_resize=cv2.resize(file,(img_size,img_size))/255.\n",
    "        dataset_tumor.append(file_resize)\n",
    "    tumor_data = np.array(dataset_tumor)\n",
    "    tumor_data = tumor_data.reshape(-1,img_size,img_size,3)\n",
    "    return tumor_data"
   ]
  },
  {
   "cell_type": "code",
   "execution_count": 16,
   "id": "ec0e2552-1052-425b-b3eb-1b4bd4a849c6",
   "metadata": {},
   "outputs": [],
   "source": [
    "#x = image_processing(data_path,file_names,image_size)"
   ]
  },
  {
   "cell_type": "code",
   "execution_count": 17,
   "id": "100d580a-3ce1-4c56-9c77-43b47ce14ba2",
   "metadata": {},
   "outputs": [],
   "source": [
    "#np.save('Project Assets/x_image_data', x)"
   ]
  },
  {
   "cell_type": "code",
   "execution_count": 18,
   "id": "6947e27c-4802-4207-97ad-87551f234288",
   "metadata": {},
   "outputs": [],
   "source": [
    "x = np.load('Project Assets/x_image_data.npy')"
   ]
  },
  {
   "cell_type": "code",
   "execution_count": 19,
   "id": "9dc14c21-ce23-44d0-a172-ad8eade616ab",
   "metadata": {},
   "outputs": [],
   "source": [
    "#x = np.load('Project Assets/x_image_data_SMOTE.npy')"
   ]
  },
  {
   "cell_type": "code",
   "execution_count": 20,
   "id": "7d8f5f08-d2e4-43b1-9362-015427137725",
   "metadata": {},
   "outputs": [],
   "source": [
    "#labels = np.load('Project Assets/SMOTE_labels.npy', allow_pickle=True)"
   ]
  },
  {
   "cell_type": "code",
   "execution_count": 21,
   "id": "5d696939-fca0-4aab-a75d-31d0e8ff1397",
   "metadata": {},
   "outputs": [],
   "source": [
    "x_train_val,x_test,y_train_val,y_test = train_test_split(x,labels,test_size=0.2)"
   ]
  },
  {
   "cell_type": "code",
   "execution_count": 22,
   "id": "7597b80a-87a2-4d25-860a-6748e6d80a59",
   "metadata": {},
   "outputs": [
    {
     "data": {
      "text/plain": [
       "['Project Assets/ohe_encoder.joblib']"
      ]
     },
     "execution_count": 22,
     "metadata": {},
     "output_type": "execute_result"
    }
   ],
   "source": [
    "ohe = OneHotEncoder(handle_unknown = \"ignore\", sparse=False)\n",
    "ohe = ohe.fit(labels.reshape(-1,1))\n",
    "y_train_val = ohe.transform(np.array(y_train_val).reshape(-1,1))\n",
    "y_test = ohe.transform(np.array(y_test).reshape(-1,1))\n",
    "dump(ohe, 'Project Assets/ohe_encoder.joblib') "
   ]
  },
  {
   "cell_type": "code",
   "execution_count": 23,
   "id": "00029b82-ec92-4a87-8e91-08d12ee5dc09",
   "metadata": {
    "tags": []
   },
   "outputs": [],
   "source": [
    "def build_alexnet():\n",
    "    model = Sequential()\n",
    "\n",
    "    model.add(Conv2D(filters=96, input_shape=(image_size,image_size,3), kernel_size=(11,11),\\\n",
    "     strides=(4,4), padding='valid'))\n",
    "    model.add(Activation('relu'))\n",
    "    model.add(MaxPooling2D(pool_size=(2,2), strides=(2,2), padding='valid'))\n",
    "    model.add(BatchNormalization())\n",
    "\n",
    "    model.add(Conv2D(filters=256, kernel_size=(5,5), strides=(1,1), padding='same'))\n",
    "    model.add(Activation('relu'))\n",
    "    model.add(MaxPooling2D(pool_size=(3,3), strides=(2,2), padding='valid'))\n",
    "    model.add(BatchNormalization())\n",
    "\n",
    "    model.add(Conv2D(filters=384, kernel_size=(3,3), strides=(1,1), padding='same'))\n",
    "    model.add(Activation('relu'))\n",
    "    model.add(BatchNormalization())\n",
    "\n",
    "    model.add(Conv2D(filters=384, kernel_size=(3,3), strides=(1,1), padding='same'))\n",
    "    model.add(Activation('relu'))\n",
    "    model.add(BatchNormalization())\n",
    "\n",
    "    model.add(Conv2D(filters=256, kernel_size=(3,3), strides=(1,1), padding='same'))\n",
    "    model.add(Activation('relu'))\n",
    "    model.add(MaxPooling2D(pool_size=(3,3), strides=(2,2), padding='valid'))\n",
    "    model.add(BatchNormalization())\n",
    "\n",
    "\n",
    "    # Passing it to a dense layer\n",
    "    model.add(Flatten())\n",
    "\n",
    "    # 1st Dense Layer\n",
    "    model.add(Dense(4096, input_shape=(image_size*image_size*3,)))\n",
    "    model.add(Activation('relu'))\n",
    "    model.add(BatchNormalization())\n",
    "\n",
    "\n",
    "    model.add(Dense(4096))\n",
    "    model.add(Activation('relu'))\n",
    "    model.add(BatchNormalization())\n",
    "    \n",
    "    model.add(Dense(128))\n",
    "    model.add(Activation('relu'))\n",
    "    model.add(BatchNormalization())\n",
    "    #model.add(Dropout(0.5))\n",
    "    \n",
    "    model.add(Dense(output_nodes, activation='softmax'))\n",
    "    model.compile(\n",
    "        loss='categorical_crossentropy',\n",
    "        optimizer=Adam(learning_rate=0.001),\n",
    "        metrics=['acc']\n",
    "    )\n",
    "    \n",
    "    return model"
   ]
  },
  {
   "cell_type": "code",
   "execution_count": 24,
   "id": "975ca4e0-398e-4650-bea9-61750d224d87",
   "metadata": {},
   "outputs": [
    {
     "name": "stdout",
     "output_type": "stream",
     "text": [
      "Model: \"sequential\"\n",
      "_________________________________________________________________\n",
      " Layer (type)                Output Shape              Param #   \n",
      "=================================================================\n",
      " conv2d (Conv2D)             (None, 35, 35, 96)        34944     \n",
      "                                                                 \n",
      " activation (Activation)     (None, 35, 35, 96)        0         \n",
      "                                                                 \n",
      " max_pooling2d (MaxPooling2D  (None, 17, 17, 96)       0         \n",
      " )                                                               \n",
      "                                                                 \n",
      " batch_normalization (BatchN  (None, 17, 17, 96)       384       \n",
      " ormalization)                                                   \n",
      "                                                                 \n",
      " conv2d_1 (Conv2D)           (None, 17, 17, 256)       614656    \n",
      "                                                                 \n",
      " activation_1 (Activation)   (None, 17, 17, 256)       0         \n",
      "                                                                 \n",
      " max_pooling2d_1 (MaxPooling  (None, 8, 8, 256)        0         \n",
      " 2D)                                                             \n",
      "                                                                 \n",
      " batch_normalization_1 (Batc  (None, 8, 8, 256)        1024      \n",
      " hNormalization)                                                 \n",
      "                                                                 \n",
      " conv2d_2 (Conv2D)           (None, 8, 8, 384)         885120    \n",
      "                                                                 \n",
      " activation_2 (Activation)   (None, 8, 8, 384)         0         \n",
      "                                                                 \n",
      " batch_normalization_2 (Batc  (None, 8, 8, 384)        1536      \n",
      " hNormalization)                                                 \n",
      "                                                                 \n",
      " conv2d_3 (Conv2D)           (None, 8, 8, 384)         1327488   \n",
      "                                                                 \n",
      " activation_3 (Activation)   (None, 8, 8, 384)         0         \n",
      "                                                                 \n",
      " batch_normalization_3 (Batc  (None, 8, 8, 384)        1536      \n",
      " hNormalization)                                                 \n",
      "                                                                 \n",
      " conv2d_4 (Conv2D)           (None, 8, 8, 256)         884992    \n",
      "                                                                 \n",
      " activation_4 (Activation)   (None, 8, 8, 256)         0         \n",
      "                                                                 \n",
      " max_pooling2d_2 (MaxPooling  (None, 3, 3, 256)        0         \n",
      " 2D)                                                             \n",
      "                                                                 \n",
      " batch_normalization_4 (Batc  (None, 3, 3, 256)        1024      \n",
      " hNormalization)                                                 \n",
      "                                                                 \n",
      " flatten (Flatten)           (None, 2304)              0         \n",
      "                                                                 \n",
      " dense (Dense)               (None, 4096)              9441280   \n",
      "                                                                 \n",
      " activation_5 (Activation)   (None, 4096)              0         \n",
      "                                                                 \n",
      " batch_normalization_5 (Batc  (None, 4096)             16384     \n",
      " hNormalization)                                                 \n",
      "                                                                 \n",
      " dense_1 (Dense)             (None, 4096)              16781312  \n",
      "                                                                 \n",
      " activation_6 (Activation)   (None, 4096)              0         \n",
      "                                                                 \n",
      " batch_normalization_6 (Batc  (None, 4096)             16384     \n",
      " hNormalization)                                                 \n",
      "                                                                 \n",
      " dense_2 (Dense)             (None, 128)               524416    \n",
      "                                                                 \n",
      " activation_7 (Activation)   (None, 128)               0         \n",
      "                                                                 \n",
      " batch_normalization_7 (Batc  (None, 128)              512       \n",
      " hNormalization)                                                 \n",
      "                                                                 \n",
      " dense_3 (Dense)             (None, 3)                 387       \n",
      "                                                                 \n",
      "=================================================================\n",
      "Total params: 30,533,379\n",
      "Trainable params: 30,513,987\n",
      "Non-trainable params: 19,392\n",
      "_________________________________________________________________\n"
     ]
    }
   ],
   "source": [
    "model = build_alexnet()\n",
    "model.summary()"
   ]
  },
  {
   "cell_type": "code",
   "execution_count": 25,
   "id": "9a4c2c04-e075-4c72-b24c-b5c68bbe8598",
   "metadata": {},
   "outputs": [],
   "source": [
    "def train_alexnet(x_train_val, y_train_val):\n",
    "\n",
    "    ohe = joblib.load('Project Assets/ohe_encoder.joblib')\n",
    "\n",
    "    kf = KFold(n_splits=3,shuffle=True)\n",
    "    k_number = 0\n",
    "    \n",
    "    val_accuracy = []\n",
    "    val_precision = []\n",
    "    val_recall = []\n",
    "    val_f1score = []\n",
    "    \n",
    "    \n",
    "    print(\"AlexNet training with 3-Fold Cross Validation.\")\n",
    "    for train_index, test_index in kf.split(x_train_val):\n",
    "        x_train, x_val = x_train_val[train_index], x_train_val[test_index]\n",
    "        y_train, y_val = y_train_val[train_index], y_train_val[test_index]\n",
    "        \n",
    "        model = build_alexnet()\n",
    "        \n",
    "        history1 = model.fit(x_train,y_train,epochs=15, validation_split = 0.2)\n",
    "        \n",
    "        acc_history = history1.history['acc']\n",
    "        val_acc_history = history1.history['val_acc']\n",
    "        loss_history = history1.history['loss']\n",
    "        val_loss_history = history1.history['val_loss']\n",
    "        \n",
    "        plt.plot(history1.history['acc'])\n",
    "        plt.plot(history1.history['val_acc'])\n",
    "        plt.title('model accuracy')\n",
    "        plt.ylabel('accuracy')\n",
    "        plt.xlabel('epoch')\n",
    "        plt.legend(['train', 'test'], loc='upper left')\n",
    "        plt.show()\n",
    "        # summarize history for loss\n",
    "        plt.plot(history1.history['loss'])\n",
    "        plt.plot(history1.history['val_loss'])\n",
    "        plt.title('model loss')\n",
    "        plt.ylabel('loss')\n",
    "        plt.xlabel('epoch')\n",
    "        plt.legend(['train', 'test'], loc='upper left')\n",
    "        plt.show()\n",
    "        \n",
    "\n",
    "        print(\"The highest validation acc is {}\".format(np.max(val_acc_history)))\n",
    "        \n",
    "        result=model.predict(x_val)\n",
    "        result_class = tf.one_hot(np.argmax(result, axis=1), depth = output_nodes)\n",
    "        \n",
    "        result_class = ohe.inverse_transform(result_class)\n",
    "        y_val_class = ohe.inverse_transform(y_val)\n",
    "\n",
    "        val_accuracy.append(accuracy_score(result_class, y_val_class))\n",
    "        val_precision.append(precision_score(result_class, y_val_class,average='macro'))\n",
    "        val_f1score.append(f1_score(result_class, y_val_class,average='macro'))\n",
    "        val_recall.append(recall_score(result_class, y_val_class,average='macro'))\n",
    "\n",
    "        average_val_accuracy=sum(val_accuracy)/len(val_accuracy)\n",
    "        average_val_precision=sum(val_precision)/len(val_precision)\n",
    "        average_val_recall=sum(val_recall)/len(val_recall)\n",
    "        average_val_f1score=sum(val_f1score)/len(val_f1score)\n",
    "        \n",
    "        print(\"AlexNet 3-Fold CV:\")\n",
    "        print(\"Average Acc: %.4f\" %(average_val_accuracy))\n",
    "        print(\"Average Precision: %.4f\" %(average_val_precision))\n",
    "        print(\"Average recall: %.4f\" %(average_val_recall))\n",
    "        print(\"Average F1 Score: %.4f \\n\" %(average_val_f1score))\n",
    "        \n",
    "    model.save('Project Assets/AlexNet_Model')"
   ]
  },
  {
   "cell_type": "code",
   "execution_count": 26,
   "id": "f493ede4-af02-4aa8-ae34-447dd50c7b3e",
   "metadata": {},
   "outputs": [
    {
     "name": "stdout",
     "output_type": "stream",
     "text": [
      "AlexNet training with 3-Fold Cross Validation.\n",
      "Epoch 1/15\n",
      "49/49 [==============================] - 7s 45ms/step - loss: 0.8137 - acc: 0.6989 - val_loss: 3.0793 - val_acc: 0.3887\n",
      "Epoch 2/15\n",
      "49/49 [==============================] - 1s 27ms/step - loss: 0.5925 - acc: 0.7636 - val_loss: 2.4103 - val_acc: 0.3990\n",
      "Epoch 3/15\n",
      "49/49 [==============================] - 1s 27ms/step - loss: 0.5205 - acc: 0.7924 - val_loss: 1.8376 - val_acc: 0.3811\n",
      "Epoch 4/15\n",
      "49/49 [==============================] - 1s 27ms/step - loss: 0.5036 - acc: 0.8040 - val_loss: 1.9543 - val_acc: 0.3529\n",
      "Epoch 5/15\n",
      "49/49 [==============================] - 1s 27ms/step - loss: 0.5130 - acc: 0.7931 - val_loss: 1.1871 - val_acc: 0.4987\n",
      "Epoch 6/15\n",
      "49/49 [==============================] - 1s 27ms/step - loss: 0.5185 - acc: 0.7931 - val_loss: 0.7129 - val_acc: 0.7059\n",
      "Epoch 7/15\n",
      "49/49 [==============================] - 1s 27ms/step - loss: 0.4775 - acc: 0.8072 - val_loss: 0.6258 - val_acc: 0.7724\n",
      "Epoch 8/15\n",
      "49/49 [==============================] - 1s 27ms/step - loss: 0.4528 - acc: 0.8161 - val_loss: 0.5577 - val_acc: 0.8031\n",
      "Epoch 9/15\n",
      "49/49 [==============================] - 1s 27ms/step - loss: 0.4507 - acc: 0.8129 - val_loss: 0.5833 - val_acc: 0.7877\n",
      "Epoch 10/15\n",
      "49/49 [==============================] - 1s 27ms/step - loss: 0.4282 - acc: 0.8219 - val_loss: 0.6620 - val_acc: 0.7698\n",
      "Epoch 11/15\n",
      "49/49 [==============================] - 1s 27ms/step - loss: 0.4569 - acc: 0.8078 - val_loss: 0.5763 - val_acc: 0.7698\n",
      "Epoch 12/15\n",
      "49/49 [==============================] - 1s 27ms/step - loss: 0.4231 - acc: 0.8245 - val_loss: 0.5543 - val_acc: 0.8056\n",
      "Epoch 13/15\n",
      "49/49 [==============================] - 1s 27ms/step - loss: 0.4372 - acc: 0.8277 - val_loss: 0.6536 - val_acc: 0.7749\n",
      "Epoch 14/15\n",
      "49/49 [==============================] - 1s 27ms/step - loss: 0.4066 - acc: 0.8341 - val_loss: 0.6308 - val_acc: 0.7724\n",
      "Epoch 15/15\n",
      "49/49 [==============================] - 1s 27ms/step - loss: 0.3888 - acc: 0.8392 - val_loss: 0.5415 - val_acc: 0.7801\n"
     ]
    },
    {
     "data": {
      "image/png": "[encoded data removed]",
      "text/plain": [
       "<Figure size 432x288 with 1 Axes>"
      ]
     },
     "metadata": {
      "needs_background": "light"
     },
     "output_type": "display_data"
    },
    {
     "data": {
      "image/png": "[encoded data removed]",
      "text/plain": [
       "<Figure size 432x288 with 1 Axes>"
      ]
     },
     "metadata": {
      "needs_background": "light"
     },
     "output_type": "display_data"
    },
    {
     "name": "stdout",
     "output_type": "stream",
     "text": [
      "The highest validation acc is 0.8056265711784363\n",
      "AlexNet 3-Fold CV:\n",
      "Average Acc: 0.7963\n",
      "Average Precision: 0.6231\n",
      "Average recall: 0.6309\n",
      "Average F1 Score: 0.6091 \n",
      "\n",
      "Epoch 1/15\n",
      "49/49 [==============================] - 3s 41ms/step - loss: 0.8742 - acc: 0.7196 - val_loss: 1.7580 - val_acc: 0.5013\n",
      "Epoch 2/15\n",
      "49/49 [==============================] - 1s 27ms/step - loss: 0.5555 - acc: 0.7753 - val_loss: 3.2843 - val_acc: 0.4297\n",
      "Epoch 3/15\n",
      "49/49 [==============================] - 1s 27ms/step - loss: 0.5539 - acc: 0.7926 - val_loss: 1.8198 - val_acc: 0.3862\n",
      "Epoch 4/15\n",
      "49/49 [==============================] - 1s 27ms/step - loss: 0.4911 - acc: 0.8054 - val_loss: 1.7518 - val_acc: 0.3964\n",
      "Epoch 5/15\n",
      "49/49 [==============================] - 1s 27ms/step - loss: 0.4936 - acc: 0.7983 - val_loss: 1.5142 - val_acc: 0.3862\n",
      "Epoch 6/15\n",
      "49/49 [==============================] - 1s 27ms/step - loss: 0.4683 - acc: 0.8047 - val_loss: 2.0917 - val_acc: 0.4322\n",
      "Epoch 7/15\n",
      "49/49 [==============================] - 1s 27ms/step - loss: 0.4818 - acc: 0.8111 - val_loss: 1.1270 - val_acc: 0.4731\n",
      "Epoch 8/15\n",
      "49/49 [==============================] - 1s 27ms/step - loss: 0.4500 - acc: 0.8207 - val_loss: 0.7383 - val_acc: 0.6905\n",
      "Epoch 9/15\n",
      "49/49 [==============================] - 1s 27ms/step - loss: 0.4514 - acc: 0.8150 - val_loss: 0.6465 - val_acc: 0.7928\n",
      "Epoch 10/15\n",
      "49/49 [==============================] - 1s 27ms/step - loss: 0.4545 - acc: 0.8252 - val_loss: 0.5128 - val_acc: 0.8056\n",
      "Epoch 11/15\n",
      "49/49 [==============================] - 1s 27ms/step - loss: 0.4555 - acc: 0.8175 - val_loss: 0.5705 - val_acc: 0.8082\n",
      "Epoch 12/15\n",
      "49/49 [==============================] - 1s 27ms/step - loss: 0.4459 - acc: 0.8207 - val_loss: 0.5004 - val_acc: 0.8159\n",
      "Epoch 13/15\n",
      "49/49 [==============================] - 1s 27ms/step - loss: 0.4312 - acc: 0.8323 - val_loss: 0.5375 - val_acc: 0.8107\n",
      "Epoch 14/15\n",
      "49/49 [==============================] - 1s 27ms/step - loss: 0.4278 - acc: 0.8348 - val_loss: 0.5890 - val_acc: 0.7877\n",
      "Epoch 15/15\n",
      "49/49 [==============================] - 1s 27ms/step - loss: 0.4237 - acc: 0.8271 - val_loss: 0.5168 - val_acc: 0.8107\n"
     ]
    },
    {
     "data": {
      "image/png": "[encoded data removed]",
      "text/plain": [
       "<Figure size 432x288 with 1 Axes>"
      ]
     },
     "metadata": {
      "needs_background": "light"
     },
     "output_type": "display_data"
    },
    {
     "data": {
      "image/png": "[encoded data removed]",
      "text/plain": [
       "<Figure size 432x288 with 1 Axes>"
      ]
     },
     "metadata": {
      "needs_background": "light"
     },
     "output_type": "display_data"
    },
    {
     "name": "stdout",
     "output_type": "stream",
     "text": [
      "The highest validation acc is 0.8158567547798157\n",
      "AlexNet 3-Fold CV:\n",
      "Average Acc: 0.8018\n",
      "Average Precision: 0.6340\n",
      "Average recall: 0.6481\n",
      "Average F1 Score: 0.6227 \n",
      "\n",
      "Epoch 1/15\n",
      "49/49 [==============================] - 2s 33ms/step - loss: 0.9703 - acc: 0.6953 - val_loss: 4.3173 - val_acc: 0.3708\n",
      "Epoch 2/15\n",
      "49/49 [==============================] - 1s 27ms/step - loss: 0.5529 - acc: 0.7913 - val_loss: 4.3770 - val_acc: 0.3529\n",
      "Epoch 3/15\n",
      "49/49 [==============================] - 1s 27ms/step - loss: 0.5202 - acc: 0.7964 - val_loss: 1.9277 - val_acc: 0.3785\n",
      "Epoch 4/15\n",
      "49/49 [==============================] - 1s 27ms/step - loss: 0.4992 - acc: 0.8035 - val_loss: 2.3161 - val_acc: 0.3708\n",
      "Epoch 5/15\n",
      "49/49 [==============================] - 1s 28ms/step - loss: 0.4818 - acc: 0.8118 - val_loss: 2.1637 - val_acc: 0.3529\n",
      "Epoch 6/15\n",
      "49/49 [==============================] - 1s 28ms/step - loss: 0.5007 - acc: 0.7990 - val_loss: 1.3965 - val_acc: 0.5652\n",
      "Epoch 7/15\n",
      "49/49 [==============================] - 1s 28ms/step - loss: 0.4991 - acc: 0.8035 - val_loss: 1.6401 - val_acc: 0.4578\n",
      "Epoch 8/15\n",
      "49/49 [==============================] - 1s 28ms/step - loss: 0.4838 - acc: 0.8099 - val_loss: 0.8024 - val_acc: 0.7008\n",
      "Epoch 9/15\n",
      "49/49 [==============================] - 1s 28ms/step - loss: 0.4661 - acc: 0.8207 - val_loss: 1.3066 - val_acc: 0.5192\n",
      "Epoch 10/15\n",
      "49/49 [==============================] - 1s 28ms/step - loss: 0.4538 - acc: 0.8156 - val_loss: 0.4911 - val_acc: 0.8107\n",
      "Epoch 11/15\n",
      "49/49 [==============================] - 1s 28ms/step - loss: 0.4531 - acc: 0.8201 - val_loss: 0.5259 - val_acc: 0.8184\n",
      "Epoch 12/15\n",
      "49/49 [==============================] - 1s 28ms/step - loss: 0.4506 - acc: 0.8220 - val_loss: 0.5506 - val_acc: 0.8159\n",
      "Epoch 13/15\n",
      "49/49 [==============================] - 1s 27ms/step - loss: 0.4425 - acc: 0.8207 - val_loss: 0.5802 - val_acc: 0.7519\n",
      "Epoch 14/15\n",
      "49/49 [==============================] - 1s 27ms/step - loss: 0.4752 - acc: 0.8143 - val_loss: 0.4914 - val_acc: 0.8031\n",
      "Epoch 15/15\n",
      "49/49 [==============================] - 1s 27ms/step - loss: 0.4316 - acc: 0.8207 - val_loss: 0.4924 - val_acc: 0.8261\n"
     ]
    },
    {
     "data": {
      "image/png": "[encoded data removed]",
      "text/plain": [
       "<Figure size 432x288 with 1 Axes>"
      ]
     },
     "metadata": {
      "needs_background": "light"
     },
     "output_type": "display_data"
    },
    {
     "data": {
      "image/png": "[encoded data removed]",
      "text/plain": [
       "<Figure size 432x288 with 1 Axes>"
      ]
     },
     "metadata": {
      "needs_background": "light"
     },
     "output_type": "display_data"
    },
    {
     "name": "stdout",
     "output_type": "stream",
     "text": [
      "The highest validation acc is 0.8260869383811951\n",
      "AlexNet 3-Fold CV:\n",
      "Average Acc: 0.8105\n",
      "Average Precision: 0.6400\n",
      "Average recall: 0.7085\n",
      "Average F1 Score: 0.6266 \n",
      "\n",
      "INFO:tensorflow:Assets written to: Project Assets/AlexNet_Model\\assets\n"
     ]
    }
   ],
   "source": [
    "train_alexnet(x_train_val, y_train_val)"
   ]
  },
  {
   "cell_type": "code",
   "execution_count": 27,
   "id": "2a8f2f6e-1ad9-4562-b897-32c76c37db04",
   "metadata": {},
   "outputs": [
    {
     "name": "stdout",
     "output_type": "stream",
     "text": [
      "Accuracy for test data: 0.7858117326057299\n"
     ]
    },
    {
     "data": {
      "text/plain": [
       "<Figure size 504x504 with 0 Axes>"
      ]
     },
     "metadata": {},
     "output_type": "display_data"
    },
    {
     "data": {
      "image/png": "[encoded data removed]",
      "text/plain": [
       "<Figure size 432x288 with 2 Axes>"
      ]
     },
     "metadata": {
      "needs_background": "light"
     },
     "output_type": "display_data"
    },
    {
     "name": "stdout",
     "output_type": "stream",
     "text": [
      "              precision    recall  f1-score   support\n",
      "\n",
      "    Clear DR       0.62      0.05      0.08       111\n",
      "     Mild DR       0.69      0.85      0.76       272\n",
      "       No DR       0.88      0.97      0.92       350\n",
      "\n",
      "    accuracy                           0.79       733\n",
      "   macro avg       0.73      0.62      0.59       733\n",
      "weighted avg       0.77      0.79      0.73       733\n",
      "\n"
     ]
    }
   ],
   "source": [
    "model = keras.models.load_model('Project Assets/AlexNet_Model')\n",
    "ohe = joblib.load('Project Assets/ohe_encoder.joblib')\n",
    "\n",
    "result=model.predict(x_test)\n",
    "result_class = tf.one_hot(np.argmax(result, axis=1), depth = output_nodes)\n",
    "\n",
    "result_class = ohe.inverse_transform(result_class)\n",
    "y_test_class = ohe.inverse_transform(y_test)\n",
    "\n",
    "acc = accuracy_score(result_class, y_test_class)\n",
    "print(\"Accuracy for test data:\", acc)\n",
    "\n",
    "plt.figure(figsize = (7,7))\n",
    "ConfusionMatrixDisplay.from_predictions(y_test_class, result_class, cmap = 'Blues')\n",
    "plt.xticks(rotation=45)\n",
    "plt.show()\n",
    "print(classification_report(y_test_class, result_class))"
   ]
  },
  {
   "cell_type": "code",
   "execution_count": null,
   "id": "52aca8d2-3ba1-40c7-8a14-3d70187ad01f",
   "metadata": {},
   "outputs": [],
   "source": []
  },
  {
   "cell_type": "code",
   "execution_count": null,
   "id": "f8da2f7c-a5ee-4178-92f9-d896a78ec727",
   "metadata": {},
   "outputs": [],
   "source": []
  },
  {
   "cell_type": "code",
   "execution_count": null,
   "id": "746f4a66-2725-4a84-b253-ae74ec8a3129",
   "metadata": {},
   "outputs": [],
   "source": []
  }
 ],
 "metadata": {
  "kernelspec": {
   "display_name": "Python 3 (ipykernel)",
   "language": "python",
   "name": "python3"
  },
  "language_info": {
   "codemirror_mode": {
    "name": "ipython",
    "version": 3
   },
   "file_extension": ".py",
   "mimetype": "text/x-python",
   "name": "python",
   "nbconvert_exporter": "python",
   "pygments_lexer": "ipython3",
   "version": "3.8.8"
  }
 },
 "nbformat": 4,
 "nbformat_minor": 5
}
